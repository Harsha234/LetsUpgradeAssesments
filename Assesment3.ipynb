{
  "nbformat": 4,
  "nbformat_minor": 0,
  "metadata": {
    "colab": {
      "name": "Untitled0.ipynb",
      "provenance": [],
      "authorship_tag": "ABX9TyPwawzIvrnVkLHP/c4a6NPK",
      "include_colab_link": true
    },
    "kernelspec": {
      "name": "python3",
      "display_name": "Python 3"
    },
    "language_info": {
      "name": "python"
    }
  },
  "cells": [
    {
      "cell_type": "markdown",
      "metadata": {
        "id": "view-in-github",
        "colab_type": "text"
      },
      "source": [
        "<a href=\"https://colab.research.google.com/github/Harsha234/LetsUpgradeAssesments/blob/main/Assesment3.ipynb\" target=\"_parent\"><img src=\"https://colab.research.google.com/assets/colab-badge.svg\" alt=\"Open In Colab\"/></a>"
      ]
    },
    {
      "cell_type": "code",
      "metadata": {
        "colab": {
          "base_uri": "https://localhost:8080/"
        },
        "id": "LLGLhPkTz4E0",
        "outputId": "4d5785a1-0191-4911-eaba-1ce8c1513ff4"
      },
      "source": [
        "Input_list = [2,1,5,3,4]\n",
        "Output_list = []\n",
        "k = 0\n",
        "for i in Input_list:\n",
        "    \n",
        "    k=k+1\n",
        "    count=0\n",
        "    for j in Input_list:\n",
        "        count = count+1;\n",
        "        if k == j:\n",
        "            break;\n",
        "    Output_list.append(count)\n",
        "print(Output_list)"
      ],
      "execution_count": 10,
      "outputs": [
        {
          "output_type": "stream",
          "text": [
            "[2, 1, 4, 5, 3]\n"
          ],
          "name": "stdout"
        }
      ]
    }
  ]
}