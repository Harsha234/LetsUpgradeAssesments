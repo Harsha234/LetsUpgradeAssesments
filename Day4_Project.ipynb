{
  "nbformat": 4,
  "nbformat_minor": 0,
  "metadata": {
    "colab": {
      "name": "Untitled0.ipynb",
      "provenance": [],
      "authorship_tag": "ABX9TyPpFDEBiSN76YyCs+nmUHRX",
      "include_colab_link": true
    },
    "kernelspec": {
      "name": "python3",
      "display_name": "Python 3"
    },
    "language_info": {
      "name": "python"
    }
  },
  "cells": [
    {
      "cell_type": "markdown",
      "metadata": {
        "id": "view-in-github",
        "colab_type": "text"
      },
      "source": [
        "<a href=\"https://colab.research.google.com/github/Harsha234/LetsUpgradeAssesments/blob/main/Day4_Project.ipynb\" target=\"_parent\"><img src=\"https://colab.research.google.com/assets/colab-badge.svg\" alt=\"Open In Colab\"/></a>"
      ]
    },
    {
      "cell_type": "code",
      "metadata": {
        "colab": {
          "base_uri": "https://localhost:8080/"
        },
        "id": "LLGLhPkTz4E0",
        "outputId": "03198a67-e423-424f-9ee8-6385ab145c3b"
      },
      "source": [
        "Celsius = int(input(\"Enter the celsius value:\"))\n",
        "Fahrenheit = (Celsius * 1.8) + 32\n",
        "print(Fahrenheit)"
      ],
      "execution_count": 11,
      "outputs": [
        {
          "output_type": "stream",
          "text": [
            "Enter the celsius value:90\n",
            "194.0\n"
          ],
          "name": "stdout"
        }
      ]
    }
  ]
}